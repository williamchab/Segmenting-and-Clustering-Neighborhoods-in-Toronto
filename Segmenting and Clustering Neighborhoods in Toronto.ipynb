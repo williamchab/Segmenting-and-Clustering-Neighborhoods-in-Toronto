{
 "cells": [
  {
   "cell_type": "markdown",
   "metadata": {},
   "source": [
    "# The code scraps the List_of_postal_codes_of_Canada data from Wikipedia.The scraped data is further cleaned such that no row contains 'Not assigned' entries.In the Neighborhood column, multiple entries are separated by commas."
   ]
  },
  {
   "cell_type": "code",
   "execution_count": 118,
   "metadata": {},
   "outputs": [],
   "source": [
    "import pandas as pd\n",
    "import requests\n",
    "from bs4 import BeautifulSoup as Soup\n",
    "read=requests.get('https://en.wikipedia.org/wiki/List_of_postal_codes_of_Canada:_M')\n",
    "soup=Soup(read.text)\n",
    "soup1=soup.find('tbody')\n",
    "j=soup1.find_all('tr')\n",
    "\n",
    "header=[]\n",
    "upper=[]\n",
    "\n",
    "for i in soup1.find_all('th'):\n",
    "    header.append(i.text.strip('\\n'))\n",
    "\n",
    "for i in range(1,len(j)):\n",
    "    lower=[]\n",
    "    for td in j[i].find_all(\"td\"):\n",
    "        lower.append(td.text.strip('\\n'))  \n",
    "    upper.append(lower) \n",
    "    \n",
    "Data=pd.DataFrame(upper,columns=header)\n",
    "Clean_Data=Data[Data.Borough!='Not assigned'].reset_index(drop=True)\n",
    "Clean_Data.Neighborhood=Clean_Data.Neighborhood.apply(lambda x: x.replace('/',','))\n",
    "\n",
    "for i in range(len(Clean_Data.Neighborhood)):\n",
    "    if Clean_Data.loc[i,'Neighborhood']=='Not assigned':\n",
    "        Clean_Data.loc[i,'Neighborhood']=Clean_Data.loc[i,'Borough']"
   ]
  },
  {
   "cell_type": "code",
   "execution_count": 119,
   "metadata": {},
   "outputs": [
    {
     "data": {
      "text/plain": [
       "(103, 3)"
      ]
     },
     "execution_count": 119,
     "metadata": {},
     "output_type": "execute_result"
    }
   ],
   "source": [
    "Clean_Data.shape"
   ]
  },
  {
   "cell_type": "code",
   "execution_count": null,
   "metadata": {},
   "outputs": [],
   "source": []
  },
  {
   "cell_type": "code",
   "execution_count": null,
   "metadata": {},
   "outputs": [],
   "source": []
  },
  {
   "cell_type": "code",
   "execution_count": 97,
   "metadata": {},
   "outputs": [],
   "source": []
  },
  {
   "cell_type": "code",
   "execution_count": null,
   "metadata": {},
   "outputs": [],
   "source": []
  },
  {
   "cell_type": "code",
   "execution_count": null,
   "metadata": {},
   "outputs": [],
   "source": []
  },
  {
   "cell_type": "code",
   "execution_count": 113,
   "metadata": {},
   "outputs": [],
   "source": []
  },
  {
   "cell_type": "code",
   "execution_count": null,
   "metadata": {},
   "outputs": [],
   "source": []
  },
  {
   "cell_type": "code",
   "execution_count": null,
   "metadata": {},
   "outputs": [],
   "source": []
  }
 ],
 "metadata": {
  "kernelspec": {
   "display_name": "Python 3",
   "language": "python",
   "name": "python3"
  },
  "language_info": {
   "codemirror_mode": {
    "name": "ipython",
    "version": 3
   },
   "file_extension": ".py",
   "mimetype": "text/x-python",
   "name": "python",
   "nbconvert_exporter": "python",
   "pygments_lexer": "ipython3",
   "version": "3.7.6"
  }
 },
 "nbformat": 4,
 "nbformat_minor": 4
}
